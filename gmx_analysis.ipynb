{
 "cells": [
  {
   "cell_type": "code",
   "execution_count": null,
   "metadata": {},
   "outputs": [],
   "source": [
    "import pandas as pd\n",
    "import matplotlib.pyplot as plt"
   ]
  },
  {
   "cell_type": "markdown",
   "metadata": {},
   "source": [
    "### Energy Minimization"
   ]
  },
  {
   "cell_type": "code",
   "execution_count": null,
   "metadata": {},
   "outputs": [],
   "source": [
    "!printf \"Potential\\n0\\n\" | gmx energy -f step6.0_minimization.edr -o potential.xvg -xvg none"
   ]
  },
  {
   "cell_type": "code",
   "execution_count": null,
   "metadata": {},
   "outputs": [],
   "source": [
    "potential = pd.read_csv(\"potential.xvg\", sep=\"\\s+\", header=None, names=[\"time\", \"energy\"])\n",
    "plt.plot(potential[\"time\"].values, potential[\"energy\"].values)\n",
    "plt.xlabel(\"Energy Minimization Step\")\n",
    "plt.ylabel(\"Potential Energy (kJ/mol)\")\n",
    "plt.title(\"Energy Minimization; Steepest Descent\")\n",
    "plt.show()"
   ]
  },
  {
   "cell_type": "markdown",
   "metadata": {},
   "source": [
    "### Equilibration - NVT ensemble"
   ]
  },
  {
   "cell_type": "code",
   "execution_count": null,
   "metadata": {},
   "outputs": [],
   "source": [
    "!echo \"Temperature\" | gmx energy -f step6.2_equilibration.edr -o temperature.xvg -xvg none"
   ]
  },
  {
   "cell_type": "code",
   "execution_count": null,
   "metadata": {},
   "outputs": [],
   "source": [
    "temperature = pd.read_csv(\"temperature.xvg\", sep=\"\\s+\", header=None, names=[\"time\", \"temperature\"])\n",
    "plt.plot(temperature[\"time\"].values, temperature[\"temperature\"].values)\n",
    "plt.xlabel(\"Time (ps)\")\n",
    "plt.ylabel(\"Temperature (K))\")\n",
    "plt.title(\"NVT Equilibration\")\n",
    "plt.show()"
   ]
  },
  {
   "cell_type": "markdown",
   "metadata": {},
   "source": [
    "### Equilibration - NPT ensemble\n",
    "\n",
    "##### Measured on step 6 of 6 equilibrations with gradual release of restraints"
   ]
  },
  {
   "cell_type": "code",
   "execution_count": null,
   "metadata": {},
   "outputs": [],
   "source": [
    "!echo \"Pressure\" | gmx energy -f step6.6_equilibration.edr -o pressure.xvg -xvg none"
   ]
  },
  {
   "cell_type": "code",
   "execution_count": null,
   "metadata": {},
   "outputs": [],
   "source": [
    "pressure = pd.read_csv(\"pressure.xvg\", sep=\"\\s+\", header=None, names=[\"time\", \"pressure\"])\n",
    "plt.plot(pressure[\"time\"].values, pressure[\"pressure\"].values)\n",
    "plt.xlabel(\"Time (ps)\")\n",
    "plt.ylabel(\"Pressure (bar))\")\n",
    "plt.title(\"NPT Equilibration\")\n",
    "plt.show()"
   ]
  },
  {
   "cell_type": "code",
   "execution_count": null,
   "metadata": {},
   "outputs": [],
   "source": [
    "!echo \"Density\" | gmx energy -f step6.6_equilibration.edr -o density.xvg -xvg none"
   ]
  },
  {
   "cell_type": "code",
   "execution_count": null,
   "metadata": {},
   "outputs": [],
   "source": [
    "density = pd.read_csv(\"density.xvg\", sep=\"\\s+\", header=None, names=[\"time\", \"density\"])\n",
    "plt.plot(density[\"time\"].values, density[\"density\"].values)\n",
    "plt.xlabel(\"Time (ps)\")\n",
    "plt.ylabel(\"Density (kg m⁻³))\")\n",
    "plt.title(\"NPT Equilibration\")\n",
    "plt.show()"
   ]
  },
  {
   "cell_type": "markdown",
   "metadata": {},
   "source": [
    "# MD Prod Analysis"
   ]
  },
  {
   "cell_type": "code",
   "execution_count": null,
   "metadata": {},
   "outputs": [],
   "source": [
    "!printf \"1\\n0\\n\" | gmx trjconv -s step7_1.tpr -f step7_1.trr -o traj_center_noPBC.xtc -pbc mol -center"
   ]
  },
  {
   "cell_type": "markdown",
   "metadata": {},
   "source": [
    "### RMSD (fit to backbone)"
   ]
  },
  {
   "cell_type": "code",
   "execution_count": null,
   "metadata": {},
   "outputs": [],
   "source": [
    "!printf \"4\\n4\\n\" | gmx rms -s step7_1.tpr -f traj_center_noPBC.xtc -o rmsd.xvg -tu ns -xvg none"
   ]
  },
  {
   "cell_type": "code",
   "execution_count": null,
   "metadata": {},
   "outputs": [],
   "source": [
    "rms = pd.read_csv(\"rmsd.xvg\", sep=\"\\s+\", header=None, names=[\"time\", \"rmsd\"])\n",
    "plt.plot(rms[\"time\"].values, rms[\"rmsd\"].values)\n",
    "plt.xlabel(\"Time (ns)\")\n",
    "plt.ylabel(\"RMSD (nm)\")\n",
    "plt.title(\"RMSD (Backbone)\")\n",
    "plt.show()"
   ]
  },
  {
   "cell_type": "code",
   "execution_count": null,
   "metadata": {},
   "outputs": [],
   "source": [
    "!printf \"4\\n1\\n\" | gmx rms -s step7_1.tpr -f traj_center_noPBC.xtc -o rmsd_prot.xvg -tu ns -xvg none\n"
   ]
  },
  {
   "cell_type": "code",
   "execution_count": null,
   "metadata": {},
   "outputs": [],
   "source": [
    "rmsd_prot = pd.read_csv(\"rmsd_prot.xvg\", sep=\"\\s+\", header=None, names=[\"time\", \"rmsd\"])\n",
    "plt.plot(rmsd_prot[\"time\"].values, rmsd_prot[\"rmsd\"].values)\n",
    "plt.xlabel(\"Time (ns)\")\n",
    "plt.ylabel(\"RMSD (nm)\")\n",
    "plt.title(\"RMSD (Protein)\")\n",
    "plt.show()"
   ]
  },
  {
   "cell_type": "markdown",
   "metadata": {},
   "source": [
    "### RMSD (Ligand)"
   ]
  },
  {
   "cell_type": "code",
   "execution_count": null,
   "metadata": {},
   "outputs": [],
   "source": [
    "!printf \"14\\n14\\n\" | gmx rms -s step7_1.tpr -f traj_center_noPBC.xtc -o rmsd_lig.xvg -tu ns -xvg none"
   ]
  },
  {
   "cell_type": "code",
   "execution_count": null,
   "metadata": {},
   "outputs": [],
   "source": [
    "rmsd_lig = pd.read_csv(\"rmsd_lig.xvg\", sep=\"\\s+\", header=None, names=[\"time\", \"rmsd\"])\n",
    "plt.plot(rmsd_lig[\"time\"].values, rmsd_lig[\"rmsd\"].values)\n",
    "plt.xlabel(\"Time (ns)\")\n",
    "plt.ylabel(\"RMSD (nm)\")\n",
    "plt.title(\"RMSD (Ligand)\")\n",
    "plt.show()"
   ]
  },
  {
   "cell_type": "markdown",
   "metadata": {},
   "source": [
    "## RMSF (C-alpha)"
   ]
  },
  {
   "cell_type": "code",
   "execution_count": null,
   "metadata": {},
   "outputs": [],
   "source": [
    "!echo \"3\" | gmx rmsf -s step7_1.tpr -f traj_center_noPBC.xtc -o rmsf.xvg -xvg none -oq bfac.pdb -res"
   ]
  },
  {
   "cell_type": "code",
   "execution_count": null,
   "metadata": {},
   "outputs": [],
   "source": [
    "rmsf = pd.read_csv(\"rmsf.xvg\", sep=\"\\s+\", header=None, names=[\"res_num\", \"rmsf\"])\n",
    "plt.plot(rmsf[\"res_num\"].values, rmsf[\"rmsf\"].values)\n",
    "plt.xlabel(\"Residue\")\n",
    "plt.ylabel(\"RMSF Fluctuation (nm)\")\n",
    "plt.title(\"RMSF\")\n",
    "#plt.xticks([rmsf[\"res_num\"].values[0], 100, 150, 200, 250, 300, rmsf[\"res_num\"].values[-1]], rotation=60)\n",
    "plt.show()"
   ]
  },
  {
   "cell_type": "markdown",
   "metadata": {},
   "source": [
    "## Radious of Gyration"
   ]
  },
  {
   "cell_type": "code",
   "execution_count": null,
   "metadata": {},
   "outputs": [],
   "source": [
    "!echo \"1\" | gmx gyrate -s step7_1.tpr -f traj_center_noPBC.xtc -o gyrate.xvg -xvg none"
   ]
  },
  {
   "cell_type": "code",
   "execution_count": null,
   "metadata": {},
   "outputs": [],
   "source": [
    "gyrate = pd.read_csv(\"gyrate.xvg\", sep=\"\\s+\", header=None, names=[\"time\", \"Rg\"], usecols=[0,1])\n",
    "gyrate[\"time\"] = gyrate[\"time\"] / 1000\n",
    "plt.plot(gyrate[\"time\"].values, gyrate[\"Rg\"].values)\n",
    "plt.xlabel(\"Time (ns)\")\n",
    "plt.ylabel(\"Rg (nm)\")\n",
    "plt.title(\"Radius of gyration\")\n",
    "plt.show()"
   ]
  },
  {
   "cell_type": "markdown",
   "metadata": {},
   "source": [
    "## H-bond"
   ]
  },
  {
   "cell_type": "code",
   "execution_count": null,
   "metadata": {},
   "outputs": [],
   "source": [
    "!printf \"1\\n1\\n\" | gmx hbond -s step7_1.tpr -f traj_center_noPBC.xtc -num hydrogen.xvg -tu ns -xvg none"
   ]
  },
  {
   "cell_type": "code",
   "execution_count": null,
   "metadata": {},
   "outputs": [],
   "source": [
    "hydrogen = pd.read_csv(\"hydrogen.xvg\", sep=\"\\s+\", header=None, names=[\"time\", \"hydrogen\"], index_col=False)\n",
    "plt.plot(hydrogen[\"time\"].values, hydrogen[\"hydrogen\"].values)\n",
    "plt.xlabel(\"Time (ns)\")\n",
    "plt.ylabel(\"H-bonds\")\n",
    "plt.title(\"H-bonds (Protein)\")\n",
    "plt.show()"
   ]
  },
  {
   "cell_type": "markdown",
   "metadata": {},
   "source": [
    "## SASA"
   ]
  },
  {
   "cell_type": "code",
   "execution_count": null,
   "metadata": {},
   "outputs": [],
   "source": [
    "!echo \"1\" | gmx sasa -s step7_1.gro -f traj_center_noPBC.xtc -o area.xvg -tu ns -xvg none"
   ]
  },
  {
   "cell_type": "code",
   "execution_count": null,
   "metadata": {},
   "outputs": [],
   "source": [
    "sasa = pd.read_csv(\"area.xvg\", sep=\"\\s+\", header=None, names=[\"time\", \"sasa\"])\n",
    "plt.plot(sasa[\"time\"].values, sasa[\"sasa\"].values)\n",
    "plt.xlabel(\"Time (ns)\")\n",
    "plt.ylabel(\"SASA\")\n",
    "plt.title(\"SASA\")\n",
    "plt.show()"
   ]
  }
 ],
 "metadata": {
  "kernelspec": {
   "display_name": "base",
   "language": "python",
   "name": "python3"
  },
  "language_info": {
   "codemirror_mode": {
    "name": "ipython",
    "version": 3
   },
   "file_extension": ".py",
   "mimetype": "text/x-python",
   "name": "python",
   "nbconvert_exporter": "python",
   "pygments_lexer": "ipython3",
   "version": "3.12.2"
  },
  "orig_nbformat": 4
 },
 "nbformat": 4,
 "nbformat_minor": 2
}

{
 "cells": [
  {
   "cell_type": "code",
   "execution_count": null,
   "metadata": {},
   "outputs": [],
   "source": [
    "import numpy as np\n",
    "import pandas as pd\n",
    "import matplotlib.pyplot as plt\n",
    "import seaborn as sns\n",
    "import ipywidgets as widgets\n",
    "from IPython.display import display\n"
   ]
  },
  {
   "cell_type": "markdown",
   "metadata": {},
   "source": [
    "### Import ChemPLP Docking and ChemScore/GoldScore/ASP Rescoring Results"
   ]
  },
  {
   "cell_type": "code",
   "execution_count": null,
   "metadata": {},
   "outputs": [],
   "source": [
    "# Load the data into a DataFrame, skipping the first 5 lines\n",
    "df_ChemPLP = pd.read_csv(\"./bestranking_ChemPLP.lst\", skiprows=5, delim_whitespace=True, index_col=False, quotechar=\"'\")\n",
    "\n",
    "# Drop the two columns with NaN values\n",
    "df_ChemPLP.drop(columns=[\"Ligand\", \"name.1\"], inplace=True)\n",
    "\n",
    "# Correct file name\n",
    "df_ChemPLP['File'] = df_ChemPLP['File'].str.replace(r'^\\.\\x5C', '', regex=True)"
   ]
  },
  {
   "cell_type": "markdown",
   "metadata": {},
   "source": [
    "### Import ChemScore/GoldScore/ASP Rescoring Results"
   ]
  },
  {
   "cell_type": "code",
   "execution_count": null,
   "metadata": {},
   "outputs": [],
   "source": [
    "# Pre-treat rescore log files\n",
    "def treat_rescore_logs(df_name, rescore_file):\n",
    "    df_name = pd.read_csv(rescore_file, skiprows=2, delim_whitespace=True, index_col=False)\n",
    "    df_name.drop(columns=[\"Ligand\", \"name.1\"], inplace=True)\n",
    "    df_name[\"name\"] = df_name[\"name\"].str.extract(r\"(Z.*?)\\|\")\n",
    "    return df_name\n",
    "\n",
    "\n",
    "df_ChemScore = treat_rescore_logs(\"df_ChemScore\", \"rescore_ChemScore.log\")\n",
    "df_GoldScore = treat_rescore_logs(\"df_GoldScore\", \"rescore_GoldScore.log\")\n",
    "df_ASP = treat_rescore_logs(\"df_ASP\", \"rescore_ASP.log\")\n"
   ]
  },
  {
   "cell_type": "code",
   "execution_count": null,
   "metadata": {},
   "outputs": [],
   "source": [
    "# Merge df_ChemPLP and df_ChemScore\n",
    "df_ChemPLP.drop(columns=['S(PLP)', 'S(hbond)', 'S(cho)', 'S(metal)', 'DE(clash)',\n",
    "       'DE(tors)', 'intcor', 'time', 'File'], inplace=True)\n",
    "                \n",
    "merged_df = df_ChemPLP.merge(df_ChemScore[[\"name\", \"Score\"]], on=\"name\", suffixes=(\"_ChemPLP\", \"_ChemScore\"))\n",
    "\n",
    "# Merge df_GoldScore\n",
    "df_GoldScore.rename(columns={\"Fitness\": \"Score_GoldScore\"}, inplace=True)\n",
    "merged_df = merged_df.merge(df_GoldScore[[\"name\", \"Score_GoldScore\"]], on=\"name\")\n",
    "\n",
    "# Merge df_ASP\n",
    "df_ASP.rename(columns={\"Score\": \"Score_ASP\"}, inplace=True)\n",
    "merged_df = merged_df.merge(df_ASP[[\"name\", \"Score_ASP\"]], on=\"name\")\n",
    "\n",
    "# Reorder the columns\n",
    "merged_df = merged_df[['name', 'Score_ChemPLP', 'Score_ChemScore', 'Score_GoldScore', 'Score_ASP']]"
   ]
  },
  {
   "cell_type": "markdown",
   "metadata": {},
   "source": [
    "### Import Vina and Vinardo Rescoring Results"
   ]
  },
  {
   "cell_type": "code",
   "execution_count": null,
   "metadata": {},
   "outputs": [],
   "source": [
    "df_vina = pd.read_csv(\"./results_sorted_vina_scoring.txt\", skiprows=2, names= [\"name\", \"Score_VINA\"], sep = \":\")\n",
    "df_vinardo = pd.read_csv(\"./results_sorted_vinardo_scoring.txt\", skiprows=2, names= [\"name\", \"Score_VINARDO\"], sep = \":\")\n",
    "\n",
    "# Merge to main dataframe\n",
    "merged_df = merged_df.merge(df_vina[[\"name\", \"Score_VINA\"]], on=\"name\")\n",
    "merged_df = merged_df.merge(df_vinardo[[\"name\", \"Score_VINARDO\"]], on=\"name\")"
   ]
  },
  {
   "cell_type": "code",
   "execution_count": null,
   "metadata": {},
   "outputs": [],
   "source": [
    "def sort_dataframe(column, ascending):\n",
    "    sorted_df = merged_df.sort_values(by=column, ascending=ascending)\n",
    "    display(sorted_df)\n",
    "\n",
    "# Create a dropdown widget to select the column to sort\n",
    "column_dropdown = widgets.Dropdown(options=merged_df.columns, description='Sort by:')\n",
    "# Create a checkbox widget to choose ascending or descending order\n",
    "ascending_checkbox = widgets.Checkbox(value=True, description='Ascending')\n",
    "# Use an interactive output to display the sorted DataFrame\n",
    "out = widgets.interactive_output(sort_dataframe, {'column': column_dropdown, 'ascending': ascending_checkbox})\n",
    "\n",
    "# Display the widgets and output\n",
    "display(widgets.HBox([column_dropdown, ascending_checkbox]), out)"
   ]
  },
  {
   "cell_type": "code",
   "execution_count": null,
   "metadata": {},
   "outputs": [],
   "source": [
    "condition_PLP = merged_df['Score_ChemPLP'] > 60\n",
    "condition_CScore = merged_df['Score_ChemScore'] > 25\n",
    "condition_GScore = merged_df['Score_GoldScore'] > 40\n",
    "condition_ASP = merged_df['Score_ASP'] > 30\n",
    "condition_Vina = merged_df['Score_VINA'] < -7 #7\n",
    "condition_Vinardo = merged_df['Score_VINARDO'] < -5 #-5\n",
    "# Add more conditions as needed\n",
    "\n",
    "# Combine the conditions using logical operators (& for AND, | for OR)\n",
    "filtered_df = merged_df[condition_PLP & condition_CScore & condition_GScore & condition_ASP & condition_Vina & condition_Vinardo]\n",
    "\n",
    "# Extract the 'name' column from the filtered dataframe\n",
    "matching_names = filtered_df['name']\n",
    "\n",
    "# matching_names = matching_names.reset_index(drop=True)\n",
    "\n",
    "print(matching_names)\n"
   ]
  },
  {
   "cell_type": "code",
   "execution_count": null,
   "metadata": {},
   "outputs": [],
   "source": [
    "merged_df.loc[merged_df['name'].isin(['Z1171328906', 'Z1842122377', 'Z1143443933'])]"
   ]
  },
  {
   "cell_type": "code",
   "execution_count": null,
   "metadata": {},
   "outputs": [],
   "source": [
    "merged_df"
   ]
  },
  {
   "cell_type": "code",
   "execution_count": null,
   "metadata": {},
   "outputs": [],
   "source": [
    "# Drop failed docking results or \"negative\" values to make kde plot prettier\n",
    "# e.g. remove 4.5 from vina score or -50 from Gold functions\n",
    "merged_df.drop(merged_df[merged_df['Score_GoldScore'] < 0].index, inplace=True)\n",
    "merged_df.drop(merged_df[merged_df['Score_ChemScore'] < 0].index, inplace=True)\n",
    "merged_df.drop(merged_df[merged_df['Score_ASP'] < 0].index, inplace=True)\n",
    "merged_df.drop(merged_df[merged_df['Score_ChemPLP'] < 0].index, inplace=True)\n",
    "merged_df.drop(merged_df[merged_df['Score_VINA'] > 0].index, inplace=True)\n",
    "merged_df.drop(merged_df[merged_df['Score_VINARDO'] > 0].index, inplace=True)"
   ]
  },
  {
   "cell_type": "code",
   "execution_count": null,
   "metadata": {},
   "outputs": [],
   "source": [
    "columns_to_plot = ['Score_ChemPLP', 'Score_ChemScore', 'Score_GoldScore', 'Score_ASP', 'Score_VINA', 'Score_VINARDO']\n",
    "\n",
    "\n",
    "plt.figure(figsize=(12, 8))\n",
    "plt.ylim((0.0, 0.5))\n",
    "\n",
    "legend_labels = ['ChemPLP', 'ChemScore', 'GoldScore', 'ASP', 'Vina', 'Vinardo']\n",
    "for i, column in enumerate(columns_to_plot):\n",
    "    sns.kdeplot(data=merged_df, x=column, fill=True, label=legend_labels[i])\n",
    "\n",
    "\n",
    "plt.xlabel(\"Docking Score\", fontsize=14)\n",
    "plt.ylabel(\"Density\", fontsize=14)\n",
    "\n",
    "plt.legend(prop={'size': 14})\n",
    "plt.show()"
   ]
  },
  {
   "cell_type": "code",
   "execution_count": null,
   "metadata": {},
   "outputs": [],
   "source": [
    "len(merged_df)"
   ]
  },
  {
   "cell_type": "code",
   "execution_count": null,
   "metadata": {},
   "outputs": [],
   "source": []
  }
 ],
 "metadata": {
  "kernelspec": {
   "display_name": "base",
   "language": "python",
   "name": "python3"
  },
  "language_info": {
   "codemirror_mode": {
    "name": "ipython",
    "version": 3
   },
   "file_extension": ".py",
   "mimetype": "text/x-python",
   "name": "python",
   "nbconvert_exporter": "python",
   "pygments_lexer": "ipython3",
   "version": "3.12.2"
  },
  "orig_nbformat": 4
 },
 "nbformat": 4,
 "nbformat_minor": 2
}
